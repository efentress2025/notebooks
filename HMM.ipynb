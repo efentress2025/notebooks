{
 "cells": [
  {
   "cell_type": "code",
   "execution_count": null,
   "metadata": {
    "id": "ZSiyPTz9_KpH"
   },
   "outputs": [],
   "source": [
    "import numpy as np"
   ]
  },
  {
   "cell_type": "markdown",
   "metadata": {
    "id": "vIwi2jGDxZm6"
   },
   "source": [
    "# HMM Class"
   ]
  },
  {
   "cell_type": "code",
   "execution_count": null,
   "metadata": {
    "id": "O4Mwqi6N4XJ0"
   },
   "outputs": [],
   "source": [
    "class HiddenMarkovModel:\n",
    "    \"\"\"A Hidden markov model which takes Transition matrix and Sensor matrix as inputs\"\"\"\n",
    "\n",
    "    def __init__(self, transition_matrix, emission_matrix, prior=None):\n",
    "        self.transition_matrix = transition_matrix\n",
    "        self.emission_matrix = emission_matrix\n",
    "        self.prior = prior or np.array([0.5, 0.5])\n",
    "\n",
    "    def emission_dist(self, ev):\n",
    "        if ev is True:\n",
    "            return self.emission_matrix[0]\n",
    "        else:\n",
    "            return self.emission_matrix[1]"
   ]
  },
  {
   "cell_type": "markdown",
   "metadata": {
    "id": "WsW6v-iOxeCF"
   },
   "source": [
    "# HMM tests"
   ]
  },
  {
   "cell_type": "code",
   "execution_count": null,
   "metadata": {
    "id": "nVtLSJvxa9d-"
   },
   "outputs": [],
   "source": [
    "umbrella_transition = np.array([[0.7, 0.3], [0.3, 0.7]])\n",
    "umbrella_sensor = np.array([[0.9, 0.2], [0.1, 0.8]])\n",
    "umbrellaHMM = HiddenMarkovModel(umbrella_transition, umbrella_sensor)"
   ]
  },
  {
   "cell_type": "code",
   "execution_count": null,
   "metadata": {
    "colab": {
     "base_uri": "https://localhost:8080/"
    },
    "id": "oFuMkhJD5D9S",
    "outputId": "b118cc06-1656-46c3-b255-bdfbc173bda4"
   },
   "outputs": [],
   "source": [
    "umbrella_evidence = [True, True, False, True, True]\n",
    "for ev in umbrella_evidence:\n",
    "  print(umbrellaHMM.emission_dist(ev))"
   ]
  },
  {
   "cell_type": "markdown",
   "metadata": {
    "id": "RBMoJbWo-6kL"
   },
   "source": [
    "# Solving algorithms"
   ]
  },
  {
   "cell_type": "markdown",
   "metadata": {
    "id": "ciFUeDgDxLNI"
   },
   "source": [
    "## Using numpy"
   ]
  },
  {
   "cell_type": "code",
   "execution_count": null,
   "metadata": {
    "id": "-vb633EP5lo7"
   },
   "outputs": [],
   "source": [
    "# Implement forward algorithm here\n",
    "def forward_step(HMM, fv, ev):\n",
    "  prediction = HMM.transition_matrix @ fv\n",
    "  emission_dist = HMM.emission_dist(ev) * np.array([[1,0],[0,1]])\n",
    "  return np.multiply(emission_dist, prediction).T/np.sum(np.multiply(emission_dist, prediction)) @ np.array([1.0, 1.0])\n",
    "\n",
    "# Implement backward algorithm here\n",
    "def backward_step(HMM, b, ev):\n",
    "  emission_dist = HMM.emission_dist(ev) * np.array([[1,0],[0,1]])\n",
    "  prediction = (emission_dist * b)\n",
    "  return (HMM.transition_matrix @ prediction @ np.array([1.0, 1.0]))/np.sum(HMM.transition_matrix @ prediction @ np.array([1.0, 1.0]))"
   ]
  },
  {
   "cell_type": "markdown",
   "metadata": {
    "id": "R0WrhSqdyZHI"
   },
   "source": [
    "## Testing forward and backward inference"
   ]
  },
  {
   "cell_type": "markdown",
   "metadata": {
    "id": "1NcfEqh6zDu6"
   },
   "source": [
    "### Forward"
   ]
  },
  {
   "cell_type": "code",
   "execution_count": null,
   "metadata": {
    "colab": {
     "base_uri": "https://localhost:8080/"
    },
    "id": "yqS68a2xEfVz",
    "outputId": "0167da23-fc58-4b8e-eb47-8c4ea6a9cf8d"
   },
   "outputs": [],
   "source": [
    "forward_inference = np.array([0.5, 0.5])\n",
    "umbrella_evidence = [True, True, False, True, True]\n",
    "#for i in range(1, len(umbrella_evidence)+1):\n",
    "for ev in umbrella_evidence:\n",
    "  forward_inference = forward_step(umbrellaHMM, forward_inference, ev = ev)\n",
    "  # Implement solution\n",
    "  print('Umbrella', ev, forward_inference)"
   ]
  },
  {
   "cell_type": "markdown",
   "metadata": {
    "id": "YQn_pJCEzFkT"
   },
   "source": [
    "### Backward"
   ]
  },
  {
   "cell_type": "code",
   "execution_count": null,
   "metadata": {
    "colab": {
     "base_uri": "https://localhost:8080/"
    },
    "id": "QBGy-QlSGlnK",
    "outputId": "636d34c6-414e-4016-a028-10d00c830df0"
   },
   "outputs": [],
   "source": [
    "backward_inference = np.array([1.0, 1.0])\n",
    "umbrella_evidence = [True, True, False, True, True]\n",
    "#for i in range(len(umbrella_evidence), -1, -1):\n",
    "for ev in reversed(umbrella_evidence):\n",
    "  backward_inference = backward_step(umbrellaHMM, backward_inference, ev = ev) #umbrella_evidence[i-1])\n",
    "  # Implement solution and reversal\n",
    "  print('Umbrella', ev, backward_inference)"
   ]
  },
  {
   "cell_type": "code",
   "execution_count": null,
   "metadata": {
    "id": "7fekEsoG_RHf"
   },
   "outputs": [],
   "source": [
    "def forward_backward(HMM, evidence):\n",
    "    \"\"\"\n",
    "    [Figure 15.4]\n",
    "    Forward-Backward algorithm for smoothing. Computes posterior probabilities\n",
    "    of a sequence of states given a sequence of observations.\n",
    "    \"\"\"\n",
    "\n",
    "    print('Begin forward algorithm')\n",
    "    \n",
    "    print('Begin backward algorithm and smoothing')\n",
    "    \n",
    "    graph_array = None\n",
    "    solution = None\n",
    "    return (graph_array, solution)"
   ]
  },
  {
   "cell_type": "code",
   "execution_count": null,
   "metadata": {
    "colab": {
     "base_uri": "https://localhost:8080/"
    },
    "id": "cHmJQE3v-BQM",
    "outputId": "0734d6a3-9179-461a-b9d8-117d0034be75"
   },
   "outputs": [],
   "source": [
    "umbrella_evidence = [True, True, False, True, True]\n",
    "umbrella_evidence"
   ]
  },
  {
   "cell_type": "code",
   "execution_count": null,
   "metadata": {
    "colab": {
     "base_uri": "https://localhost:8080/"
    },
    "id": "_yPAGpxCDZt6",
    "outputId": "f623df7b-ad79-4952-8635-24c870518414"
   },
   "outputs": [],
   "source": [
    "forward_backward(umbrellaHMM, umbrella_evidence)"
   ]
  },
  {
   "cell_type": "code",
   "execution_count": null,
   "metadata": {
    "id": "0JLPc19XLzh8"
   },
   "outputs": [],
   "source": []
  }
 ],
 "metadata": {
  "colab": {
   "provenance": []
  },
  "kernelspec": {
   "display_name": "Python 3 (ipykernel)",
   "language": "python",
   "name": "python3"
  },
  "language_info": {
   "codemirror_mode": {
    "name": "ipython",
    "version": 3
   },
   "file_extension": ".py",
   "mimetype": "text/x-python",
   "name": "python",
   "nbconvert_exporter": "python",
   "pygments_lexer": "ipython3",
   "version": "3.10.12"
  }
 },
 "nbformat": 4,
 "nbformat_minor": 4
}
